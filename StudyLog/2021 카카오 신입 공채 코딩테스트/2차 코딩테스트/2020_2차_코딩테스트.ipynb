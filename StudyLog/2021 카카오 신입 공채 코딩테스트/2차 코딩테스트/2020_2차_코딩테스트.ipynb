{
 "cells": [
  {
   "cell_type": "code",
   "execution_count": 18,
   "metadata": {},
   "outputs": [],
   "source": [
    "import requests, json\n",
    "xauth = \"29b1b291fdb69531d623138f8a384880\"\n",
    "base = \"https://kox947ka1a.execute-api.ap-northeast-2.amazonaws.com/prod/users\""
   ]
  },
  {
   "cell_type": "code",
   "execution_count": 23,
   "metadata": {},
   "outputs": [
    {
     "name": "stdout",
     "output_type": "stream",
     "text": [
      "{'auth_key': '9394ce8a-42d7-448d-b654-1f742c1e59f0', 'problem': 1, 'time': 0}\n"
     ]
    }
   ],
   "source": [
    "def initialize(problem):\n",
    "    headers = {\n",
    "        \"X-Auth-Token\": xauth,\n",
    "        \"Content-Type\": \"application/json\"\n",
    "    }\n",
    "    \n",
    "    params = {\n",
    "        \"problem\": problem,\n",
    "    }\n",
    "    \n",
    "    url_start = \"/start\"\n",
    "    url = base + url_start\n",
    "\n",
    "    response = requests.post(url, headers = headers, params = params)\n",
    "    if response.status_code == 200:\n",
    "        print(response.json())\n",
    "        res = response.json()\n",
    "        \n",
    "    else:\n",
    "        print(response.text)\n",
    "        \n",
    "    return res\n",
    "        \n",
    "prob1 = initialize(1)"
   ]
  },
  {
   "cell_type": "code",
   "execution_count": 29,
   "metadata": {},
   "outputs": [
    {
     "name": "stdout",
     "output_type": "stream",
     "text": [
      "{'locations': [{'id': 0, 'located_bikes_count': 4}, {'id': 1, 'located_bikes_count': 4}, {'id': 2, 'located_bikes_count': 4}, {'id': 3, 'located_bikes_count': 4}, {'id': 4, 'located_bikes_count': 4}, {'id': 5, 'located_bikes_count': 4}, {'id': 6, 'located_bikes_count': 4}, {'id': 7, 'located_bikes_count': 4}, {'id': 8, 'located_bikes_count': 4}, {'id': 9, 'located_bikes_count': 4}, {'id': 10, 'located_bikes_count': 4}, {'id': 11, 'located_bikes_count': 4}, {'id': 12, 'located_bikes_count': 4}, {'id': 13, 'located_bikes_count': 4}, {'id': 14, 'located_bikes_count': 4}, {'id': 15, 'located_bikes_count': 4}, {'id': 16, 'located_bikes_count': 4}, {'id': 17, 'located_bikes_count': 4}, {'id': 18, 'located_bikes_count': 4}, {'id': 19, 'located_bikes_count': 4}, {'id': 20, 'located_bikes_count': 4}, {'id': 21, 'located_bikes_count': 4}, {'id': 22, 'located_bikes_count': 4}, {'id': 23, 'located_bikes_count': 4}, {'id': 24, 'located_bikes_count': 4}]}\n"
     ]
    }
   ],
   "source": [
    "def getLocations(auth_key):\n",
    "    headers = {\n",
    "        \"Authorization\": auth_key,\n",
    "        \"Content-Type\": \"application/json\"\n",
    "    }\n",
    "    \n",
    "    url_location = \"/locations\"\n",
    "    url = base + url_location\n",
    "    \n",
    "    response = requests.get(url, headers = headers)\n",
    "    if response.status_code == 200:\n",
    "        print(response.json())\n",
    "        res = response.json()\n",
    "    else:\n",
    "        print(response.text)\n",
    "        \n",
    "    return res\n",
    "\n",
    "loc_test = getLocation(prob1[\"auth_key\"])"
   ]
  },
  {
   "cell_type": "code",
   "execution_count": 31,
   "metadata": {},
   "outputs": [
    {
     "name": "stdout",
     "output_type": "stream",
     "text": [
      "{'trucks': [{'id': 0, 'loaded_bikes_count': 0, 'location_id': 0}, {'id': 1, 'loaded_bikes_count': 0, 'location_id': 0}, {'id': 2, 'loaded_bikes_count': 0, 'location_id': 0}, {'id': 3, 'loaded_bikes_count': 0, 'location_id': 0}, {'id': 4, 'loaded_bikes_count': 0, 'location_id': 0}]}\n"
     ]
    }
   ],
   "source": [
    "def getTrucks(auth_key):\n",
    "    headers = {\n",
    "        \"Authorization\": auth_key,\n",
    "        \"Content-Type\": \"application/json\"\n",
    "    }\n",
    "    \n",
    "    url_truck = \"/trucks\"\n",
    "    url = base + url_truck\n",
    "    \n",
    "    response = requests.get(url, headers = headers)\n",
    "    if response.status_code == 200:\n",
    "        print(response.json())\n",
    "        res = response.json()\n",
    "    else:\n",
    "        print(response.text)\n",
    "        \n",
    "    return res\n",
    "\n",
    "truck_test = getTrucks(prob1[\"auth_key\"])"
   ]
  },
  {
   "cell_type": "code",
   "execution_count": 56,
   "metadata": {},
   "outputs": [
    {
     "name": "stdout",
     "output_type": "stream",
     "text": [
      "{'commands': [{'truck_id': 0, 'command': [0, 0, 0, 0, 0]}, {'truck_id': 1, 'command': [0, 0, 0, 0, 0]}, {'truck_id': 2, 'command': [0, 0, 0, 0, 0]}, {'truck_id': 3, 'command': [0, 0, 0, 0, 0]}, {'truck_id': 4, 'command': [0, 0, 0, 0, 0]}]}\n",
      "{\"message\":\"Invalid Params: commands\"}\n"
     ]
    }
   ],
   "source": [
    "# commands = { <id>: <job> }\n",
    "def simulate(auth_key, commands):\n",
    "    headers = {\n",
    "        \"Authorization\": auth_key,\n",
    "        \"Content-Type\": \"application/json\"\n",
    "    }\n",
    "    \n",
    "    params = {\n",
    "        \"commands\": commands\n",
    "    }\n",
    "    \n",
    "    url_simulate = \"/simulate\"\n",
    "    url = base + url_simulate\n",
    "    print(params)\n",
    "    response = requests.put(url, headers = headers, params = params)\n",
    "    if response.status_code == 200:\n",
    "        print(response.json())\n",
    "        res = response.json()\n",
    "        return res\n",
    "    else:\n",
    "        print(response.text)\n",
    "        return None\n",
    "    \n",
    "\n",
    "test_command = [{\n",
    "    \"truck_id\": 0, \"command\": [0, 0, 0, 0, 0]\n",
    "},\n",
    "{\n",
    "    \"truck_id\": 1, \"command\": [0, 0, 0, 0, 0]\n",
    "},\n",
    "{\n",
    "    \"truck_id\": 2, \"command\": [0, 0, 0, 0, 0]\n",
    "},\n",
    "{\n",
    "    \"truck_id\": 3, \"command\": [0, 0, 0, 0, 0]\n",
    "},\n",
    "{\n",
    "    \"truck_id\": 4, \"command\": [0, 0, 0, 0, 0]\n",
    "}]\n",
    "\n",
    "simulate(prob1[\"auth_key\"],test_command)"
   ]
  },
  {
   "cell_type": "code",
   "execution_count": 55,
   "metadata": {},
   "outputs": [
    {
     "name": "stdout",
     "output_type": "stream",
     "text": [
      "{'score': 0.0}\n"
     ]
    }
   ],
   "source": [
    "def checkScore(auth_key):\n",
    "    headers = {\n",
    "        \"Authorization\": auth_key,\n",
    "        \"Content-Type\": \"application/json\"\n",
    "    }\n",
    "    \n",
    "    url_score = \"/score\"\n",
    "    url = base + url_score\n",
    "    \n",
    "    response = requests.get(url, headers = headers)\n",
    "    if response.status_code == 200:\n",
    "        print(response.json())\n",
    "        res = response.json()\n",
    "    else:\n",
    "        print(response.text)\n",
    "        \n",
    "    return res\n",
    "\n",
    "res = checkScore(prob1[\"auth_key\"])"
   ]
  },
  {
   "cell_type": "code",
   "execution_count": null,
   "metadata": {},
   "outputs": [],
   "source": []
  }
 ],
 "metadata": {
  "kernelspec": {
   "display_name": "Python 3",
   "language": "python",
   "name": "python3"
  },
  "language_info": {
   "codemirror_mode": {
    "name": "ipython",
    "version": 3
   },
   "file_extension": ".py",
   "mimetype": "text/x-python",
   "name": "python",
   "nbconvert_exporter": "python",
   "pygments_lexer": "ipython3",
   "version": "3.8.5"
  }
 },
 "nbformat": 4,
 "nbformat_minor": 4
}
